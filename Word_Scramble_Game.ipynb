{
  "nbformat": 4,
  "nbformat_minor": 0,
  "metadata": {
    "colab": {
      "provenance": [],
      "authorship_tag": "ABX9TyPXo2dgnAzJWGZJ0D57VO06",
      "include_colab_link": true
    },
    "kernelspec": {
      "name": "python3",
      "display_name": "Python 3"
    },
    "language_info": {
      "name": "python"
    }
  },
  "cells": [
    {
      "cell_type": "markdown",
      "metadata": {
        "id": "view-in-github",
        "colab_type": "text"
      },
      "source": [
        "<a href=\"https://colab.research.google.com/github/GitH-Mukul/Projects/blob/main/Word_Scramble_Game.ipynb\" target=\"_parent\"><img src=\"https://colab.research.google.com/assets/colab-badge.svg\" alt=\"Open In Colab\"/></a>"
      ]
    },
    {
      "cell_type": "code",
      "execution_count": 2,
      "metadata": {
        "colab": {
          "base_uri": "https://localhost:8080/"
        },
        "id": "A_KOkF_qaTsR",
        "outputId": "f530d7dc-93fa-4e7d-8226-5e53323cb30a"
      },
      "outputs": [
        {
          "output_type": "stream",
          "name": "stdout",
          "text": [
            "Scrambled word: earhrdaw\n",
            "Guess the word: hardware\n",
            "Correct! You win!\n"
          ]
        }
      ],
      "source": [
        "import random\n",
        "\n",
        "# List of words\n",
        "words = [\"python\", \"arduino\", \"sensor\", \"relay\", \"circuit\", \"hardware\"]\n",
        "\n",
        "def scramble(word):\n",
        "    return ''.join(random.sample(word, len(word)))\n",
        "\n",
        "def play_game():\n",
        "    word = random.choice(words)\n",
        "    scrambled_word = scramble(word)\n",
        "    print(\"Scrambled word:\", scrambled_word)\n",
        "\n",
        "    guess = input(\"Guess the word: \")\n",
        "    if guess.lower() == word:\n",
        "        print(\"Correct! You win!\")\n",
        "    else:\n",
        "        print(f\"Wrong! The correct word was '{word}'.\")\n",
        "\n",
        "# Start the game\n",
        "play_game()\n"
      ]
    }
  ]
}